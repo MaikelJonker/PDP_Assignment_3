{
 "cells": [
  {
   "cell_type": "markdown",
   "id": "4ffd4a4e-fea5-450c-92f2-a4b29d3740d6",
   "metadata": {},
   "source": [
    "Import dependencies"
   ]
  },
  {
   "cell_type": "code",
   "execution_count": 1,
   "id": "8902eb29-95ab-4ea3-9d74-9e463737d632",
   "metadata": {},
   "outputs": [],
   "source": [
    "import findspark\n",
    "import pandas as pd\n",
    "import numpy as np\n",
    "from pyspark.sql import SparkSession\n",
    "from pyspark.sql.types import *"
   ]
  },
  {
   "cell_type": "markdown",
   "id": "1fd579c7-8baa-4880-ba67-2edfacdac1b4",
   "metadata": {},
   "source": [
    "Initiate with Spark for Windows"
   ]
  },
  {
   "cell_type": "code",
   "execution_count": 2,
   "id": "16a5c988-9793-4f38-948c-4e4cb6de5484",
   "metadata": {},
   "outputs": [],
   "source": [
    "findspark.init(\"C:\\\\Spark\\\\spark-3.1.2-bin-hadoop2.7\")"
   ]
  },
  {
   "cell_type": "markdown",
   "id": "f8392cda-32c7-4e12-8d8c-08250580402e",
   "metadata": {},
   "source": [
    "Create a Spark session"
   ]
  },
  {
   "cell_type": "code",
   "execution_count": 3,
   "id": "3c9c9fce-1201-41a7-b656-7017888ea69f",
   "metadata": {},
   "outputs": [],
   "source": [
    "spark = SparkSession.builder.master(\"local\").appName(\"PDP assignment 3\").config(\"spark.executor.memory\", \"1gb\").getOrCreate()\n",
    "sc = spark.sparkContext"
   ]
  },
  {
   "cell_type": "markdown",
   "id": "d10ebfe6-0014-4433-b283-f53ced556628",
   "metadata": {},
   "source": [
    "Load data file and show a brief preview of the first 10 rows"
   ]
  },
  {
   "cell_type": "code",
   "execution_count": 4,
   "id": "14f5baa5-e690-47ee-92ee-4784cd93c43e",
   "metadata": {},
   "outputs": [
    {
     "data": {
      "text/plain": [
       "[Row(Survived='0', Pclass='3', Name='Mr. Owen Harris Braund', Sex='male', Age='22', Siblings/Spouses Aboard='1', Parents/Children Aboard='0', Fare='7.25'),\n",
       " Row(Survived='1', Pclass='1', Name='Mrs. John Bradley (Florence Briggs Thayer) Cumings', Sex='female', Age='38', Siblings/Spouses Aboard='1', Parents/Children Aboard='0', Fare='71.2833'),\n",
       " Row(Survived='1', Pclass='3', Name='Miss. Laina Heikkinen', Sex='female', Age='26', Siblings/Spouses Aboard='0', Parents/Children Aboard='0', Fare='7.925'),\n",
       " Row(Survived='1', Pclass='1', Name='Mrs. Jacques Heath (Lily May Peel) Futrelle', Sex='female', Age='35', Siblings/Spouses Aboard='1', Parents/Children Aboard='0', Fare='53.1'),\n",
       " Row(Survived='0', Pclass='3', Name='Mr. William Henry Allen', Sex='male', Age='35', Siblings/Spouses Aboard='0', Parents/Children Aboard='0', Fare='8.05'),\n",
       " Row(Survived='0', Pclass='3', Name='Mr. James Moran', Sex='male', Age='27', Siblings/Spouses Aboard='0', Parents/Children Aboard='0', Fare='8.4583'),\n",
       " Row(Survived='0', Pclass='1', Name='Mr. Timothy J McCarthy', Sex='male', Age='54', Siblings/Spouses Aboard='0', Parents/Children Aboard='0', Fare='51.8625'),\n",
       " Row(Survived='0', Pclass='3', Name='Master. Gosta Leonard Palsson', Sex='male', Age='2', Siblings/Spouses Aboard='3', Parents/Children Aboard='1', Fare='21.075'),\n",
       " Row(Survived='1', Pclass='3', Name='Mrs. Oscar W (Elisabeth Vilhelmina Berg) Johnson', Sex='female', Age='27', Siblings/Spouses Aboard='0', Parents/Children Aboard='2', Fare='11.1333'),\n",
       " Row(Survived='1', Pclass='2', Name='Mrs. Nicholas (Adele Achem) Nasser', Sex='female', Age='14', Siblings/Spouses Aboard='1', Parents/Children Aboard='0', Fare='30.0708')]"
      ]
     },
     "execution_count": 4,
     "metadata": {},
     "output_type": "execute_result"
    }
   ],
   "source": [
    "df = spark.read.format(\"CSV\").option(\"header\", \"true\").load(\"titanic.csv\")\n",
    "df.head(10)"
   ]
  },
  {
   "cell_type": "markdown",
   "id": "7789315c-3048-416a-9f35-cb72dbc7cfa7",
   "metadata": {},
   "source": [
    "Format the data into a proper dataframe"
   ]
  },
  {
   "cell_type": "code",
   "execution_count": 5,
   "id": "0e295e0e-32d2-40ae-a482-37160cf45627",
   "metadata": {},
   "outputs": [],
   "source": [
    "df = df.withColumn(\"Survived\", df[\"Survived\"].cast(IntegerType())) \\\n",
    "    .withColumn(\"Pclass\", df[\"Pclass\"].cast(IntegerType())) \\\n",
    "    .withColumn(\"Name\", df[\"Name\"].cast(StringType())) \\\n",
    "    .withColumn(\"Sex\", df[\"Sex\"].cast(StringType())) \\\n",
    "    .withColumn(\"Age\", df[\"Age\"].cast(IntegerType())) \\\n",
    "    .withColumn(\"Siblings/Spouses Aboard\", df[\"Siblings/Spouses Aboard\"].cast(IntegerType())) \\\n",
    "    .withColumn(\"Parents/Children Aboard\", df[\"Parents/Children Aboard\"].cast(IntegerType())) \\\n",
    "    .withColumn(\"Fare\", df[\"Fare\"].cast(FloatType()))"
   ]
  },
  {
   "cell_type": "markdown",
   "id": "156ed1e3-0957-45fa-ab6a-57c2775518d4",
   "metadata": {},
   "source": [
    "Question A:\n",
    "Here i grouped the passengers by gender and class and calculated their respective probability of survival as a percentage"
   ]
  },
  {
   "cell_type": "code",
   "execution_count": 6,
   "id": "c05ecabb-8636-4bf3-9048-a28ca6ebf773",
   "metadata": {},
   "outputs": [
    {
     "data": {
      "text/html": [
       "<div>\n",
       "<style scoped>\n",
       "    .dataframe tbody tr th:only-of-type {\n",
       "        vertical-align: middle;\n",
       "    }\n",
       "\n",
       "    .dataframe tbody tr th {\n",
       "        vertical-align: top;\n",
       "    }\n",
       "\n",
       "    .dataframe thead th {\n",
       "        text-align: right;\n",
       "    }\n",
       "</style>\n",
       "<table border=\"1\" class=\"dataframe\">\n",
       "  <thead>\n",
       "    <tr style=\"text-align: right;\">\n",
       "      <th></th>\n",
       "      <th></th>\n",
       "      <th>Survived</th>\n",
       "    </tr>\n",
       "    <tr>\n",
       "      <th>Sex</th>\n",
       "      <th>Pclass</th>\n",
       "      <th></th>\n",
       "    </tr>\n",
       "  </thead>\n",
       "  <tbody>\n",
       "    <tr>\n",
       "      <th rowspan=\"3\" valign=\"top\">female</th>\n",
       "      <th>1</th>\n",
       "      <td>96.808511</td>\n",
       "    </tr>\n",
       "    <tr>\n",
       "      <th>2</th>\n",
       "      <td>92.105263</td>\n",
       "    </tr>\n",
       "    <tr>\n",
       "      <th>3</th>\n",
       "      <td>50.000000</td>\n",
       "    </tr>\n",
       "    <tr>\n",
       "      <th rowspan=\"3\" valign=\"top\">male</th>\n",
       "      <th>1</th>\n",
       "      <td>36.885246</td>\n",
       "    </tr>\n",
       "    <tr>\n",
       "      <th>2</th>\n",
       "      <td>15.740741</td>\n",
       "    </tr>\n",
       "    <tr>\n",
       "      <th>3</th>\n",
       "      <td>13.702624</td>\n",
       "    </tr>\n",
       "  </tbody>\n",
       "</table>\n",
       "</div>"
      ],
      "text/plain": [
       "                Survived\n",
       "Sex    Pclass           \n",
       "female 1       96.808511\n",
       "       2       92.105263\n",
       "       3       50.000000\n",
       "male   1       36.885246\n",
       "       2       15.740741\n",
       "       3       13.702624"
      ]
     },
     "execution_count": 6,
     "metadata": {},
     "output_type": "execute_result"
    }
   ],
   "source": [
    "dfa = df.select(\"Survived\", \"Sex\", \"Pclass\").toPandas()\n",
    "dfa = dfa.groupby([\"Sex\", \"Pclass\"]).mean([\"Survived\"]) * 100\n",
    "dfa"
   ]
  },
  {
   "cell_type": "markdown",
   "id": "1bec5255-6dca-43d5-abcf-e22b1a984e22",
   "metadata": {},
   "source": [
    "Question B: First i aquire all the children that were registered in 3rd class and under the age of 10, then i calculate how many children in this group survived the accident. Lastly i divide the number of survivors by the total number of children from this group and calculate their chances of survival."
   ]
  },
  {
   "cell_type": "code",
   "execution_count": 10,
   "id": "88a5cdfa-c66a-4433-9a93-7433d6c29b72",
   "metadata": {},
   "outputs": [
    {
     "name": "stdout",
     "output_type": "stream",
     "text": [
      "Chances of survival: 41.509433962264154\n"
     ]
    }
   ],
   "source": [
    "dfb = df.select(\"Age\", \"Pclass\", \"Survived\").toPandas()\n",
    "dfb = dfb[(dfb['Age'] <= 10) & (dfb['Pclass'] == 3)][['Age', 'Survived', 'Pclass']]\n",
    "survived = dfb[dfb['Survived'] == 1].count()[0]\n",
    "chance = (survived / dfb.count()[0] * 100).item()\n",
    "print(\"Chances of survival: \" + str(chance))"
   ]
  },
  {
   "cell_type": "markdown",
   "id": "5f867cfd-6a7c-493d-9a5d-eaf0bbd5b0c9",
   "metadata": {},
   "source": [
    "Question C: Simple calculation of the average ticket price for each class using Pandas"
   ]
  },
  {
   "cell_type": "code",
   "execution_count": 8,
   "id": "7d25cc6d-ffed-470f-aa6d-f09e7441bcd1",
   "metadata": {},
   "outputs": [
    {
     "data": {
      "text/html": [
       "<div>\n",
       "<style scoped>\n",
       "    .dataframe tbody tr th:only-of-type {\n",
       "        vertical-align: middle;\n",
       "    }\n",
       "\n",
       "    .dataframe tbody tr th {\n",
       "        vertical-align: top;\n",
       "    }\n",
       "\n",
       "    .dataframe thead th {\n",
       "        text-align: right;\n",
       "    }\n",
       "</style>\n",
       "<table border=\"1\" class=\"dataframe\">\n",
       "  <thead>\n",
       "    <tr style=\"text-align: right;\">\n",
       "      <th></th>\n",
       "      <th>Fare</th>\n",
       "    </tr>\n",
       "    <tr>\n",
       "      <th>Pclass</th>\n",
       "      <th></th>\n",
       "    </tr>\n",
       "  </thead>\n",
       "  <tbody>\n",
       "    <tr>\n",
       "      <th>1</th>\n",
       "      <td>84.154686</td>\n",
       "    </tr>\n",
       "    <tr>\n",
       "      <th>2</th>\n",
       "      <td>20.662184</td>\n",
       "    </tr>\n",
       "    <tr>\n",
       "      <th>3</th>\n",
       "      <td>13.707707</td>\n",
       "    </tr>\n",
       "  </tbody>\n",
       "</table>\n",
       "</div>"
      ],
      "text/plain": [
       "             Fare\n",
       "Pclass           \n",
       "1       84.154686\n",
       "2       20.662184\n",
       "3       13.707707"
      ]
     },
     "execution_count": 8,
     "metadata": {},
     "output_type": "execute_result"
    }
   ],
   "source": [
    "dfc = df.select(\"Pclass\", \"Fare\").toPandas()\n",
    "dfc = dfc.groupby([\"Pclass\"]).mean([\"Fare\"])\n",
    "dfc"
   ]
  }
 ],
 "metadata": {
  "kernelspec": {
   "display_name": "Python 3",
   "language": "python",
   "name": "python3"
  },
  "language_info": {
   "codemirror_mode": {
    "name": "ipython",
    "version": 3
   },
   "file_extension": ".py",
   "mimetype": "text/x-python",
   "name": "python",
   "nbconvert_exporter": "python",
   "pygments_lexer": "ipython3",
   "version": "3.8.10"
  }
 },
 "nbformat": 4,
 "nbformat_minor": 5
}
